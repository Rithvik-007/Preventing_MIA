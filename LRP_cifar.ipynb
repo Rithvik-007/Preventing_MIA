{
  "cells": [
    {
      "cell_type": "code",
      "execution_count": null,
      "metadata": {
        "colab": {
          "base_uri": "https://localhost:8080/"
        },
        "id": "gkWHKW9CHJ2e",
        "outputId": "4a4b8336-9be4-4f02-f1b5-c2d3ab9bb244"
      },
      "outputs": [
        {
          "output_type": "stream",
          "name": "stdout",
          "text": [
            "Collecting captum\n",
            "  Downloading captum-0.7.0-py3-none-any.whl (1.3 MB)\n",
            "\u001b[2K     \u001b[90m━━━━━━━━━━━━━━━━━━━━━━━━━━━━━━━━━━━━━━━━\u001b[0m \u001b[32m1.3/1.3 MB\u001b[0m \u001b[31m6.3 MB/s\u001b[0m eta \u001b[36m0:00:00\u001b[0m\n",
            "\u001b[?25hRequirement already satisfied: matplotlib in /usr/local/lib/python3.10/dist-packages (from captum) (3.7.1)\n",
            "Requirement already satisfied: numpy in /usr/local/lib/python3.10/dist-packages (from captum) (1.25.2)\n",
            "Requirement already satisfied: torch>=1.6 in /usr/local/lib/python3.10/dist-packages (from captum) (2.2.1+cu121)\n",
            "Requirement already satisfied: tqdm in /usr/local/lib/python3.10/dist-packages (from captum) (4.66.2)\n",
            "Requirement already satisfied: filelock in /usr/local/lib/python3.10/dist-packages (from torch>=1.6->captum) (3.13.4)\n",
            "Requirement already satisfied: typing-extensions>=4.8.0 in /usr/local/lib/python3.10/dist-packages (from torch>=1.6->captum) (4.11.0)\n",
            "Requirement already satisfied: sympy in /usr/local/lib/python3.10/dist-packages (from torch>=1.6->captum) (1.12)\n",
            "Requirement already satisfied: networkx in /usr/local/lib/python3.10/dist-packages (from torch>=1.6->captum) (3.3)\n",
            "Requirement already satisfied: jinja2 in /usr/local/lib/python3.10/dist-packages (from torch>=1.6->captum) (3.1.3)\n",
            "Requirement already satisfied: fsspec in /usr/local/lib/python3.10/dist-packages (from torch>=1.6->captum) (2023.6.0)\n",
            "Collecting nvidia-cuda-nvrtc-cu12==12.1.105 (from torch>=1.6->captum)\n",
            "  Using cached nvidia_cuda_nvrtc_cu12-12.1.105-py3-none-manylinux1_x86_64.whl (23.7 MB)\n",
            "Collecting nvidia-cuda-runtime-cu12==12.1.105 (from torch>=1.6->captum)\n",
            "  Using cached nvidia_cuda_runtime_cu12-12.1.105-py3-none-manylinux1_x86_64.whl (823 kB)\n",
            "Collecting nvidia-cuda-cupti-cu12==12.1.105 (from torch>=1.6->captum)\n",
            "  Using cached nvidia_cuda_cupti_cu12-12.1.105-py3-none-manylinux1_x86_64.whl (14.1 MB)\n",
            "Collecting nvidia-cudnn-cu12==8.9.2.26 (from torch>=1.6->captum)\n",
            "  Using cached nvidia_cudnn_cu12-8.9.2.26-py3-none-manylinux1_x86_64.whl (731.7 MB)\n",
            "Collecting nvidia-cublas-cu12==12.1.3.1 (from torch>=1.6->captum)\n",
            "  Using cached nvidia_cublas_cu12-12.1.3.1-py3-none-manylinux1_x86_64.whl (410.6 MB)\n",
            "Collecting nvidia-cufft-cu12==11.0.2.54 (from torch>=1.6->captum)\n",
            "  Using cached nvidia_cufft_cu12-11.0.2.54-py3-none-manylinux1_x86_64.whl (121.6 MB)\n",
            "Collecting nvidia-curand-cu12==10.3.2.106 (from torch>=1.6->captum)\n",
            "  Using cached nvidia_curand_cu12-10.3.2.106-py3-none-manylinux1_x86_64.whl (56.5 MB)\n",
            "Collecting nvidia-cusolver-cu12==11.4.5.107 (from torch>=1.6->captum)\n",
            "  Using cached nvidia_cusolver_cu12-11.4.5.107-py3-none-manylinux1_x86_64.whl (124.2 MB)\n",
            "Collecting nvidia-cusparse-cu12==12.1.0.106 (from torch>=1.6->captum)\n",
            "  Using cached nvidia_cusparse_cu12-12.1.0.106-py3-none-manylinux1_x86_64.whl (196.0 MB)\n",
            "Collecting nvidia-nccl-cu12==2.19.3 (from torch>=1.6->captum)\n",
            "  Using cached nvidia_nccl_cu12-2.19.3-py3-none-manylinux1_x86_64.whl (166.0 MB)\n",
            "Collecting nvidia-nvtx-cu12==12.1.105 (from torch>=1.6->captum)\n",
            "  Using cached nvidia_nvtx_cu12-12.1.105-py3-none-manylinux1_x86_64.whl (99 kB)\n",
            "Requirement already satisfied: triton==2.2.0 in /usr/local/lib/python3.10/dist-packages (from torch>=1.6->captum) (2.2.0)\n",
            "Collecting nvidia-nvjitlink-cu12 (from nvidia-cusolver-cu12==11.4.5.107->torch>=1.6->captum)\n",
            "  Using cached nvidia_nvjitlink_cu12-12.4.127-py3-none-manylinux2014_x86_64.whl (21.1 MB)\n",
            "Requirement already satisfied: contourpy>=1.0.1 in /usr/local/lib/python3.10/dist-packages (from matplotlib->captum) (1.2.1)\n",
            "Requirement already satisfied: cycler>=0.10 in /usr/local/lib/python3.10/dist-packages (from matplotlib->captum) (0.12.1)\n",
            "Requirement already satisfied: fonttools>=4.22.0 in /usr/local/lib/python3.10/dist-packages (from matplotlib->captum) (4.51.0)\n",
            "Requirement already satisfied: kiwisolver>=1.0.1 in /usr/local/lib/python3.10/dist-packages (from matplotlib->captum) (1.4.5)\n",
            "Requirement already satisfied: packaging>=20.0 in /usr/local/lib/python3.10/dist-packages (from matplotlib->captum) (24.0)\n",
            "Requirement already satisfied: pillow>=6.2.0 in /usr/local/lib/python3.10/dist-packages (from matplotlib->captum) (9.4.0)\n",
            "Requirement already satisfied: pyparsing>=2.3.1 in /usr/local/lib/python3.10/dist-packages (from matplotlib->captum) (3.1.2)\n",
            "Requirement already satisfied: python-dateutil>=2.7 in /usr/local/lib/python3.10/dist-packages (from matplotlib->captum) (2.8.2)\n",
            "Requirement already satisfied: six>=1.5 in /usr/local/lib/python3.10/dist-packages (from python-dateutil>=2.7->matplotlib->captum) (1.16.0)\n",
            "Requirement already satisfied: MarkupSafe>=2.0 in /usr/local/lib/python3.10/dist-packages (from jinja2->torch>=1.6->captum) (2.1.5)\n",
            "Requirement already satisfied: mpmath>=0.19 in /usr/local/lib/python3.10/dist-packages (from sympy->torch>=1.6->captum) (1.3.0)\n",
            "Installing collected packages: nvidia-nvtx-cu12, nvidia-nvjitlink-cu12, nvidia-nccl-cu12, nvidia-curand-cu12, nvidia-cufft-cu12, nvidia-cuda-runtime-cu12, nvidia-cuda-nvrtc-cu12, nvidia-cuda-cupti-cu12, nvidia-cublas-cu12, nvidia-cusparse-cu12, nvidia-cudnn-cu12, nvidia-cusolver-cu12, captum\n",
            "Successfully installed captum-0.7.0 nvidia-cublas-cu12-12.1.3.1 nvidia-cuda-cupti-cu12-12.1.105 nvidia-cuda-nvrtc-cu12-12.1.105 nvidia-cuda-runtime-cu12-12.1.105 nvidia-cudnn-cu12-8.9.2.26 nvidia-cufft-cu12-11.0.2.54 nvidia-curand-cu12-10.3.2.106 nvidia-cusolver-cu12-11.4.5.107 nvidia-cusparse-cu12-12.1.0.106 nvidia-nccl-cu12-2.19.3 nvidia-nvjitlink-cu12-12.4.127 nvidia-nvtx-cu12-12.1.105\n"
          ]
        }
      ],
      "source": [
        "!pip install captum"
      ]
    },
    {
      "cell_type": "code",
      "execution_count": null,
      "metadata": {
        "id": "O7UM0R-t-ai-"
      },
      "outputs": [],
      "source": [
        "import matplotlib.pyplot as plt\n",
        "import numpy as np\n",
        "\n",
        "%matplotlib inline\n",
        "\n",
        "import torch\n",
        "import torchvision\n",
        "import torchvision.transforms as transforms\n",
        "import torchvision.transforms.functional as TF\n",
        "\n",
        "from torchvision import models\n",
        "import captum\n",
        "from captum.attr import IntegratedGradients\n",
        "from captum.attr import Saliency\n",
        "from captum.attr import DeepLift\n",
        "from captum.attr import NoiseTunnel\n",
        "from captum.attr import visualization as viz"
      ]
    },
    {
      "cell_type": "code",
      "execution_count": null,
      "metadata": {
        "colab": {
          "base_uri": "https://localhost:8080/"
        },
        "id": "pOlkmJ6a-20-",
        "outputId": "04f6e08e-4001-4a46-ab8e-f253b0fc636d"
      },
      "outputs": [
        {
          "output_type": "stream",
          "name": "stdout",
          "text": [
            "Downloading https://www.cs.toronto.edu/~kriz/cifar-10-python.tar.gz to ./data/cifar-10-python.tar.gz\n"
          ]
        },
        {
          "output_type": "stream",
          "name": "stderr",
          "text": [
            "100%|██████████| 170498071/170498071 [00:03<00:00, 50812922.15it/s]\n"
          ]
        },
        {
          "output_type": "stream",
          "name": "stdout",
          "text": [
            "Extracting ./data/cifar-10-python.tar.gz to ./data\n",
            "Files already downloaded and verified\n"
          ]
        }
      ],
      "source": [
        "transform = transforms.Compose(\n",
        "    [transforms.ToTensor(),\n",
        "     transforms.Normalize((0.5, 0.5, 0.5), (0.5, 0.5, 0.5))])\n",
        "\n",
        "trainset = torchvision.datasets.CIFAR10(root='./data', train=True,\n",
        "                                        download=True, transform=transform)\n",
        "trainloader = torch.utils.data.DataLoader(trainset, batch_size=4,\n",
        "                                          shuffle=True, num_workers=2)\n",
        "\n",
        "testset = torchvision.datasets.CIFAR10(root='./data', train=False,\n",
        "                                       download=True, transform=transform)\n",
        "testloader = torch.utils.data.DataLoader(testset, batch_size=4,\n",
        "                                         shuffle=False, num_workers=2)\n",
        "\n",
        "classes = ('plane', 'car', 'bird', 'cat',\n",
        "           'deer', 'dog', 'frog', 'horse', 'ship', 'truck')\n"
      ]
    },
    {
      "cell_type": "code",
      "execution_count": null,
      "metadata": {
        "id": "s-kE_Agw-69o"
      },
      "outputs": [],
      "source": [
        "import torch.nn as nn\n",
        "import torch.nn.functional as F\n",
        "\n",
        "\n",
        "class Net(nn.Module):\n",
        "    def __init__(self):\n",
        "        super(Net, self).__init__()\n",
        "        self.conv1 = nn.Conv2d(3, 6, 5)\n",
        "        self.pool1 = nn.MaxPool2d(2, 2)\n",
        "        self.pool2 = nn.MaxPool2d(2, 2)\n",
        "        self.conv2 = nn.Conv2d(6, 16, 5)\n",
        "        self.fc1 = nn.Linear(16 * 5 * 5, 120)\n",
        "        self.fc2 = nn.Linear(120, 84)\n",
        "        self.fc3 = nn.Linear(84, 10)\n",
        "        self.relu1 = nn.ReLU()\n",
        "        self.relu2 = nn.ReLU()\n",
        "        self.relu3 = nn.ReLU()\n",
        "        self.relu4 = nn.ReLU()\n",
        "\n",
        "    def forward(self, x):\n",
        "        x = self.pool1(self.relu1(self.conv1(x)))\n",
        "        x = self.pool2(self.relu2(self.conv2(x)))\n",
        "        x = x.view(-1, 16 * 5 * 5)\n",
        "        x = self.relu3(self.fc1(x))\n",
        "        x = self.relu4(self.fc2(x))\n",
        "        x = self.fc3(x)\n",
        "        return x\n",
        "\n",
        "\n",
        "net = Net()"
      ]
    },
    {
      "cell_type": "code",
      "execution_count": null,
      "metadata": {
        "id": "L6yFXDgZ--VE"
      },
      "outputs": [],
      "source": [
        "import torch.optim as optim\n",
        "\n",
        "criterion = nn.CrossEntropyLoss()\n",
        "optimizer = optim.SGD(net.parameters(), lr=0.001, momentum=0.9)\n"
      ]
    },
    {
      "cell_type": "code",
      "execution_count": null,
      "metadata": {
        "colab": {
          "base_uri": "https://localhost:8080/"
        },
        "id": "mmglc0-2_CMI",
        "outputId": "afbdd9f4-62a7-47f4-a8db-bfe542e6e6e7"
      },
      "outputs": [
        {
          "output_type": "stream",
          "name": "stderr",
          "text": [
            "/usr/lib/python3.10/multiprocessing/popen_fork.py:66: RuntimeWarning: os.fork() was called. os.fork() is incompatible with multithreaded code, and JAX is multithreaded, so this will likely lead to a deadlock.\n",
            "  self.pid = os.fork()\n"
          ]
        },
        {
          "output_type": "stream",
          "name": "stdout",
          "text": [
            "[1,  2000] loss: 2.162\n",
            "[1,  4000] loss: 1.857\n",
            "[1,  6000] loss: 1.688\n",
            "[1,  8000] loss: 1.589\n",
            "[1, 10000] loss: 1.503\n",
            "[1, 12000] loss: 1.467\n"
          ]
        },
        {
          "output_type": "stream",
          "name": "stderr",
          "text": [
            "/usr/lib/python3.10/multiprocessing/popen_fork.py:66: RuntimeWarning: os.fork() was called. os.fork() is incompatible with multithreaded code, and JAX is multithreaded, so this will likely lead to a deadlock.\n",
            "  self.pid = os.fork()\n"
          ]
        },
        {
          "output_type": "stream",
          "name": "stdout",
          "text": [
            "[2,  2000] loss: 1.399\n",
            "[2,  4000] loss: 1.375\n",
            "[2,  6000] loss: 1.320\n",
            "[2,  8000] loss: 1.311\n",
            "[2, 10000] loss: 1.300\n",
            "[2, 12000] loss: 1.278\n",
            "[3,  2000] loss: 1.205\n",
            "[3,  4000] loss: 1.197\n",
            "[3,  6000] loss: 1.206\n",
            "[3,  8000] loss: 1.208\n",
            "[3, 10000] loss: 1.165\n",
            "[3, 12000] loss: 1.181\n",
            "[4,  2000] loss: 1.114\n",
            "[4,  4000] loss: 1.094\n",
            "[4,  6000] loss: 1.124\n",
            "[4,  8000] loss: 1.101\n",
            "[4, 10000] loss: 1.098\n",
            "[4, 12000] loss: 1.115\n",
            "[5,  2000] loss: 1.024\n",
            "[5,  4000] loss: 1.045\n",
            "[5,  6000] loss: 1.029\n",
            "[5,  8000] loss: 1.053\n",
            "[5, 10000] loss: 1.019\n",
            "[5, 12000] loss: 1.034\n",
            "Finished Training\n"
          ]
        }
      ],
      "source": [
        "USE_PRETRAINED_MODEL = False\n",
        "\n",
        "if USE_PRETRAINED_MODEL:\n",
        "    print(\"Using existing trained model\")\n",
        "    net.load_state_dict(torch.load('models/cifar_torchvision.pt'))\n",
        "else:\n",
        "    for epoch in range(5):  # loop over the dataset multiple times\n",
        "\n",
        "        running_loss = 0.0\n",
        "        for i, data in enumerate(trainloader, 0):\n",
        "            # get the inputs\n",
        "            inputs, labels = data\n",
        "            # zero the parameter gradients\n",
        "            optimizer.zero_grad()\n",
        "\n",
        "            # forward + backward + optimize\n",
        "            outputs = net(inputs)\n",
        "            loss = criterion(outputs, labels)\n",
        "            loss.backward()\n",
        "            optimizer.step()\n",
        "\n",
        "            # print statistics\n",
        "            running_loss += loss.item()\n",
        "            if i % 2000 == 1999:    # print every 2000 mini-batches\n",
        "                print('[%d, %5d] loss: %.3f' %\n",
        "                      (epoch + 1, i + 1, running_loss / 2000))\n",
        "                running_loss = 0.0\n",
        "\n",
        "    print('Finished Training')\n",
        "    torch.save(net.state_dict(), 'models/cifar_torchvision.pt')"
      ]
    },
    {
      "cell_type": "code",
      "execution_count": null,
      "metadata": {
        "id": "Znmpg-6n_H_c"
      },
      "outputs": [],
      "source": [
        "ind = 3\n",
        "\n",
        "input = inputs[ind].unsqueeze(0)\n",
        "input.requires_grad = True"
      ]
    },
    {
      "cell_type": "code",
      "execution_count": null,
      "metadata": {
        "id": "37EHihwU_nQk"
      },
      "outputs": [],
      "source": [
        "def attribute_image_features(algorithm, input, **kwargs):\n",
        "    net.zero_grad()\n",
        "    tensor_attributions = algorithm.attribute(input,\n",
        "                                              target=labels[ind],\n",
        "                                              **kwargs\n",
        "                                             )\n",
        "\n",
        "    return tensor_attributions\n"
      ]
    },
    {
      "cell_type": "code",
      "execution_count": null,
      "metadata": {
        "colab": {
          "base_uri": "https://localhost:8080/"
        },
        "id": "1HZwk4xA_9nY",
        "outputId": "12c9c644-fe6f-4549-95f0-4db62b52a8bb"
      },
      "outputs": [
        {
          "output_type": "stream",
          "name": "stdout",
          "text": [
            "<class 'captum.attr._core.saliency.Saliency'> <captum.attr._core.saliency.Saliency object at 0x7e90feacc940>\n"
          ]
        }
      ],
      "source": [
        "saliency = Saliency(net)\n",
        "print(type(saliency),saliency)\n",
        "grads = saliency.attribute(input, target=labels[ind].item())\n",
        "grads = np.transpose(grads.squeeze().cpu().detach().numpy(), (1, 2, 0))"
      ]
    },
    {
      "cell_type": "code",
      "execution_count": null,
      "metadata": {
        "colab": {
          "base_uri": "https://localhost:8080/"
        },
        "id": "hRfFjjU7AFnA",
        "outputId": "58ba749e-adc2-483a-b936-06e8d32c3499"
      },
      "outputs": [
        {
          "output_type": "stream",
          "name": "stdout",
          "text": [
            "ig <captum.attr._core.integrated_gradients.IntegratedGradients object at 0x7e90feacff40>\n",
            "Attr_ig tensor([[[[-4.9202e-05, -6.6697e-05, -3.7987e-04,  ...,  1.8259e-04,\n",
            "            2.5137e-04, -0.0000e+00],\n",
            "          [-1.6080e-05, -3.2280e-04, -5.2225e-04,  ..., -1.1574e-05,\n",
            "            1.1264e-03,  3.5798e-04],\n",
            "          [-5.6600e-06,  3.0128e-05, -2.0123e-05,  ...,  6.7484e-04,\n",
            "            1.0266e-03,  4.1976e-04],\n",
            "          ...,\n",
            "          [ 2.1638e-03,  1.0672e-02,  1.0761e-02,  ...,  1.0746e-02,\n",
            "           -2.3026e-04,  5.1015e-03],\n",
            "          [ 1.0464e-03,  3.6303e-03,  5.4225e-03,  ...,  3.8134e-03,\n",
            "            3.6428e-03,  5.2025e-03],\n",
            "          [-9.3986e-04, -3.0657e-03, -1.0109e-03,  ...,  1.1770e-03,\n",
            "           -7.3757e-05, -7.0191e-05]],\n",
            "\n",
            "         [[-4.2483e-04, -1.8467e-03, -8.6464e-04,  ..., -5.1335e-07,\n",
            "            9.1984e-05, -0.0000e+00],\n",
            "          [-3.8427e-04, -8.9173e-05, -9.1376e-04,  ..., -3.4837e-04,\n",
            "           -1.6062e-04,  1.0658e-04],\n",
            "          [-2.5166e-04, -3.9849e-04,  1.3860e-03,  ..., -2.6882e-04,\n",
            "            3.6166e-06,  9.3799e-05],\n",
            "          ...,\n",
            "          [-1.9276e-03, -1.2818e-03, -3.3489e-03,  ...,  3.6770e-03,\n",
            "           -5.3777e-03, -2.6636e-03],\n",
            "          [ 1.2982e-03,  2.6545e-03, -4.5040e-03,  ...,  4.0964e-03,\n",
            "           -7.3185e-04,  4.1608e-03],\n",
            "          [ 2.3467e-04, -2.0613e-04,  1.6056e-03,  ...,  2.2487e-03,\n",
            "           -1.2449e-03, -1.2118e-03]],\n",
            "\n",
            "         [[-5.8198e-04,  1.2072e-03,  1.2043e-03,  ...,  4.5350e-03,\n",
            "            1.8212e-03,  0.0000e+00],\n",
            "          [-4.5008e-04,  5.7414e-04,  8.3542e-03,  ...,  3.5679e-03,\n",
            "            1.7495e-03,  2.1790e-04],\n",
            "          [-2.9323e-05,  3.5854e-03,  7.9338e-03,  ...,  3.3096e-03,\n",
            "            2.2436e-03, -2.9159e-05],\n",
            "          ...,\n",
            "          [-1.7648e-03, -5.2306e-04, -6.4301e-03,  ..., -6.3552e-03,\n",
            "           -8.5875e-03, -8.4627e-03],\n",
            "          [ 1.7126e-03, -3.5817e-04, -5.9216e-03,  ..., -5.0901e-03,\n",
            "           -2.2087e-03, -2.1614e-03],\n",
            "          [ 9.0886e-04, -4.8728e-04,  2.5447e-03,  ...,  3.4741e-04,\n",
            "            1.3717e-03,  2.2272e-03]]]], dtype=torch.float64,\n",
            "       grad_fn=<MulBackward0>) **** tensor([0.0217], dtype=torch.float64)\n",
            "Approximation delta:  tensor([0.0217], dtype=torch.float64)\n"
          ]
        }
      ],
      "source": [
        "ig = IntegratedGradients(net)\n",
        "print(\"ig\",ig)\n",
        "attr_ig, delta = attribute_image_features(ig, input, baselines=input * 0, return_convergence_delta=True)\n",
        "print(\"Attr_ig\",attr_ig,\"****\",delta)\n",
        "attr_ig = np.transpose(attr_ig.squeeze().cpu().detach().numpy(), (1, 2, 0))\n",
        "print('Approximation delta: ', abs(delta))\n"
      ]
    },
    {
      "cell_type": "code",
      "execution_count": null,
      "metadata": {
        "id": "LQ0DCemAAJWP",
        "colab": {
          "base_uri": "https://localhost:8080/"
        },
        "outputId": "3fc52a28-03d7-4276-a310-140b8d2102e2"
      },
      "outputs": [
        {
          "output_type": "stream",
          "name": "stdout",
          "text": [
            "nt <captum.attr._core.noise_tunnel.NoiseTunnel object at 0x7e90feacf790>\n",
            "tensor([[[[1.3225e-07, 4.6010e-07, 1.2796e-06,  ..., 6.2026e-07,\n",
            "           7.3388e-07, 5.2581e-07],\n",
            "          [9.8438e-07, 1.8606e-06, 1.3254e-05,  ..., 9.0183e-06,\n",
            "           5.7124e-06, 3.5270e-06],\n",
            "          [3.0233e-06, 3.4704e-06, 1.4794e-05,  ..., 2.1300e-05,\n",
            "           1.0594e-05, 3.3297e-06],\n",
            "          ...,\n",
            "          [1.7654e-05, 8.3231e-05, 3.4046e-04,  ..., 1.6049e-04,\n",
            "           2.8094e-05, 1.9606e-05],\n",
            "          [4.4524e-06, 3.1083e-05, 8.5036e-05,  ..., 3.2194e-05,\n",
            "           1.1489e-05, 1.8182e-05],\n",
            "          [1.8937e-06, 7.8037e-06, 6.3561e-06,  ..., 5.5079e-06,\n",
            "           4.7178e-06, 2.4105e-06]],\n",
            "\n",
            "         [[1.4964e-06, 1.2485e-06, 3.6443e-06,  ..., 8.0792e-07,\n",
            "           4.4953e-07, 2.3079e-07],\n",
            "          [2.1052e-06, 6.2371e-06, 1.4436e-05,  ..., 2.2732e-06,\n",
            "           5.5584e-07, 7.5276e-07],\n",
            "          [1.6050e-06, 1.2171e-05, 3.2293e-05,  ..., 3.7719e-06,\n",
            "           1.6893e-06, 1.5471e-06],\n",
            "          ...,\n",
            "          [3.3913e-06, 2.3107e-05, 2.5745e-05,  ..., 1.0621e-04,\n",
            "           2.4459e-05, 1.5936e-05],\n",
            "          [2.7079e-06, 1.0061e-05, 1.4612e-05,  ..., 2.8400e-05,\n",
            "           4.7842e-06, 2.1080e-05],\n",
            "          [1.0123e-06, 3.7436e-06, 9.8063e-06,  ..., 9.0636e-06,\n",
            "           4.6242e-06, 5.7692e-06]],\n",
            "\n",
            "         [[3.2822e-06, 8.5716e-06, 3.4582e-05,  ..., 2.8148e-05,\n",
            "           8.8455e-06, 1.9560e-06],\n",
            "          [1.2511e-05, 5.8923e-05, 1.4824e-04,  ..., 3.7365e-05,\n",
            "           1.0917e-05, 3.5727e-06],\n",
            "          [2.2802e-05, 1.0470e-04, 3.1048e-04,  ..., 6.9729e-05,\n",
            "           2.9178e-05, 6.7217e-06],\n",
            "          ...,\n",
            "          [4.7778e-06, 2.7358e-05, 3.7164e-05,  ..., 5.6752e-05,\n",
            "           2.8537e-05, 2.5630e-05],\n",
            "          [3.6002e-06, 1.4863e-05, 3.4158e-05,  ..., 2.3296e-05,\n",
            "           8.8334e-06, 8.6570e-06],\n",
            "          [1.5234e-06, 3.8622e-06, 3.2233e-06,  ..., 5.1756e-06,\n",
            "           6.3214e-06, 3.8820e-06]]]], dtype=torch.float64)\n",
            "transpose [[[1.32250186e-07 1.49642220e-06 3.28218473e-06]\n",
            "  [4.60099203e-07 1.24853332e-06 8.57162303e-06]\n",
            "  [1.27959532e-06 3.64433305e-06 3.45817081e-05]\n",
            "  ...\n",
            "  [6.20262821e-07 8.07918713e-07 2.81479999e-05]\n",
            "  [7.33882339e-07 4.49529204e-07 8.84552115e-06]\n",
            "  [5.25809316e-07 2.30788379e-07 1.95599512e-06]]\n",
            "\n",
            " [[9.84375123e-07 2.10524464e-06 1.25114712e-05]\n",
            "  [1.86061944e-06 6.23713135e-06 5.89229797e-05]\n",
            "  [1.32538811e-05 1.44356250e-05 1.48239179e-04]\n",
            "  ...\n",
            "  [9.01832047e-06 2.27319130e-06 3.73647951e-05]\n",
            "  [5.71242187e-06 5.55840947e-07 1.09169839e-05]\n",
            "  [3.52698677e-06 7.52760062e-07 3.57267939e-06]]\n",
            "\n",
            " [[3.02333312e-06 1.60497122e-06 2.28022069e-05]\n",
            "  [3.47041305e-06 1.21714198e-05 1.04702337e-04]\n",
            "  [1.47935310e-05 3.22927034e-05 3.10477271e-04]\n",
            "  ...\n",
            "  [2.13001812e-05 3.77193362e-06 6.97291762e-05]\n",
            "  [1.05940737e-05 1.68925166e-06 2.91784373e-05]\n",
            "  [3.32971037e-06 1.54710172e-06 6.72168086e-06]]\n",
            "\n",
            " ...\n",
            "\n",
            " [[1.76535426e-05 3.39127581e-06 4.77784726e-06]\n",
            "  [8.32310859e-05 2.31068042e-05 2.73575237e-05]\n",
            "  [3.40455649e-04 2.57451057e-05 3.71640499e-05]\n",
            "  ...\n",
            "  [1.60490833e-04 1.06214444e-04 5.67520339e-05]\n",
            "  [2.80943500e-05 2.44592932e-05 2.85372364e-05]\n",
            "  [1.96061531e-05 1.59355088e-05 2.56302055e-05]]\n",
            "\n",
            " [[4.45236249e-06 2.70791295e-06 3.60023148e-06]\n",
            "  [3.10828274e-05 1.00613969e-05 1.48627833e-05]\n",
            "  [8.50363837e-05 1.46118588e-05 3.41582063e-05]\n",
            "  ...\n",
            "  [3.21935977e-05 2.83997504e-05 2.32958124e-05]\n",
            "  [1.14885820e-05 4.78415637e-06 8.83342487e-06]\n",
            "  [1.81824188e-05 2.10796775e-05 8.65698782e-06]]\n",
            "\n",
            " [[1.89373699e-06 1.01225623e-06 1.52338849e-06]\n",
            "  [7.80373412e-06 3.74357819e-06 3.86218454e-06]\n",
            "  [6.35607045e-06 9.80633014e-06 3.22334447e-06]\n",
            "  ...\n",
            "  [5.50787552e-06 9.06364393e-06 5.17562655e-06]\n",
            "  [4.71780696e-06 4.62422841e-06 6.32135778e-06]\n",
            "  [2.41054922e-06 5.76919402e-06 3.88197400e-06]]]\n"
          ]
        }
      ],
      "source": [
        "ig = IntegratedGradients(net)\n",
        "nt = NoiseTunnel(ig)\n",
        "print(\"nt\",nt)\n",
        "attr_ig_nt = attribute_image_features(nt, input, baselines=input * 0, nt_type='smoothgrad_sq',\n",
        "                                      nt_samples=100, stdevs=0.2)\n",
        "print(attr_ig_nt)\n",
        "attr_ig_nt = np.transpose(attr_ig_nt.squeeze(0).cpu().detach().numpy(), (1, 2, 0))\n",
        "print(\"transpose\",attr_ig_nt)"
      ]
    },
    {
      "cell_type": "code",
      "execution_count": null,
      "metadata": {
        "colab": {
          "base_uri": "https://localhost:8080/"
        },
        "id": "hcesU7rhANJM",
        "outputId": "ad0a3b73-6d6d-47a1-cc1a-334d8f9d4add"
      },
      "outputs": [
        {
          "output_type": "stream",
          "name": "stdout",
          "text": [
            "<captum.attr._core.deep_lift.DeepLift object at 0x7e90feacca60>\n",
            "tensor([[[[-6.1279e-05, -8.8106e-05, -4.0227e-04,  ...,  2.0319e-05,\n",
            "           -5.7443e-06, -0.0000e+00],\n",
            "          [-2.0027e-05, -3.3794e-04, -5.3231e-04,  ...,  3.1477e-04,\n",
            "            3.6362e-04,  2.4409e-04],\n",
            "          [-7.0493e-06,  2.5372e-05, -1.9750e-05,  ...,  1.5836e-04,\n",
            "            3.0250e-04,  2.8622e-04],\n",
            "          ...,\n",
            "          [-1.2498e-03,  1.4858e-03,  2.3519e-03,  ..., -1.6977e-04,\n",
            "            1.0986e-03, -3.7087e-04],\n",
            "          [ 2.6638e-05,  7.1562e-05,  2.5760e-03,  ...,  3.2843e-04,\n",
            "            4.1838e-05,  1.9625e-05],\n",
            "          [-2.3463e-05, -7.4335e-05,  1.0285e-03,  ...,  1.2889e-04,\n",
            "           -7.5027e-07, -7.1399e-07]],\n",
            "\n",
            "         [[-5.2911e-04, -1.9869e-03, -9.6601e-04,  ...,  7.4946e-06,\n",
            "            9.0140e-06, -0.0000e+00],\n",
            "          [-4.7859e-04, -1.2088e-04, -1.0087e-03,  ..., -1.9370e-04,\n",
            "           -4.3340e-05,  7.2670e-05],\n",
            "          [-3.1343e-04, -3.5803e-04,  1.4748e-03,  ...,  1.4851e-04,\n",
            "            9.5765e-05,  6.3957e-05],\n",
            "          ...,\n",
            "          [-1.6150e-03, -2.1629e-03, -2.4057e-03,  ..., -2.0935e-03,\n",
            "           -8.6881e-04, -6.3945e-04],\n",
            "          [ 2.9423e-05,  5.4869e-05, -8.9749e-04,  ...,  1.1652e-04,\n",
            "           -3.1995e-05, -5.7954e-06],\n",
            "          [ 5.8584e-06, -6.3040e-06,  1.5167e-03,  ...,  2.1393e-04,\n",
            "           -1.2663e-05, -1.2327e-05]],\n",
            "\n",
            "         [[-7.2484e-04,  1.2565e-03,  1.4129e-03,  ...,  1.5008e-04,\n",
            "            1.0347e-04,  0.0000e+00],\n",
            "          [-5.6056e-04,  5.3592e-04,  8.8411e-03,  ...,  2.2463e-04,\n",
            "            2.1968e-04,  1.4857e-04],\n",
            "          [-3.6521e-05,  4.3947e-03,  8.5555e-03,  ...,  4.9189e-04,\n",
            "            6.9571e-05, -1.9882e-05],\n",
            "          ...,\n",
            "          [-1.4767e-03,  1.8079e-03,  6.1396e-04,  ..., -3.8339e-03,\n",
            "            1.0207e-03,  4.3684e-05],\n",
            "          [ 4.0616e-05, -4.5068e-05, -1.9413e-03,  ..., -1.1369e-05,\n",
            "           -8.2798e-06, -1.4739e-05],\n",
            "          [ 2.2690e-05, -1.1996e-05,  1.7722e-03,  ..., -2.7161e-05,\n",
            "            1.3953e-05,  2.2656e-05]]]], grad_fn=<MulBackward0>)\n"
          ]
        },
        {
          "output_type": "stream",
          "name": "stderr",
          "text": [
            "/usr/local/lib/python3.10/dist-packages/captum/attr/_core/deep_lift.py:304: UserWarning: Setting forward, backward hooks and attributes on non-linear\n",
            "               activations. The hooks and attributes will be removed\n",
            "            after the attribution is finished\n",
            "  warnings.warn(\n"
          ]
        }
      ],
      "source": [
        "dl = DeepLift(net)\n",
        "print(dl)\n",
        "attr_dl = attribute_image_features(dl, input, baselines=input * 0)\n",
        "print(attr_dl)\n",
        "attr_dl = np.transpose(attr_dl.squeeze(0).cpu().detach().numpy(), (1, 2, 0))"
      ]
    },
    {
      "cell_type": "code",
      "execution_count": null,
      "metadata": {
        "colab": {
          "base_uri": "https://localhost:8080/"
        },
        "id": "irVsdtZvASK1",
        "outputId": "348e1c73-8900-49b7-aa9a-b6e57a9886cd"
      },
      "outputs": [
        {
          "output_type": "stream",
          "name": "stdout",
          "text": [
            "tensor(0.0005)\n"
          ]
        }
      ],
      "source": [
        "import torch\n",
        "\n",
        "# Assuming attr_dl is your gradient tensor\n",
        "attr_dl_tensor = torch.tensor(attr_dl)  # Convert NumPy array to PyTorch tensor\n",
        "old_noise_multiplier=1.3\n",
        "mean_grad = torch.mean(attr_dl_tensor)\n",
        "\n",
        "# Update the noise multiplier based on the mean gradient\n",
        "# You may need to adjust this update rule based on your specific requirements\n",
        "new_noise_multiplier = old_noise_multiplier * mean_grad\n",
        "\n",
        "print(new_noise_multiplier)\n",
        "# Use the new noise multiplier in your Differential Privacy GAN training\n"
      ]
    },
    {
      "cell_type": "code",
      "execution_count": null,
      "metadata": {
        "colab": {
          "base_uri": "https://localhost:8080/",
          "height": 228
        },
        "id": "CKuWREaoBG-b",
        "outputId": "d69a5968-7c77-4ea4-8a5a-f8fa09b4ec2f"
      },
      "outputs": [
        {
          "output_type": "display_data",
          "data": {
            "text/plain": [
              "<Figure size 640x480 with 1 Axes>"
            ],
            "image/png": "[encoded data removed]"
          },
          "metadata": {}
        },
        {
          "output_type": "stream",
          "name": "stdout",
          "text": [
            "GroundTruth:    cat  ship  ship plane\n",
            "Predicted:    cat plane plane plane\n"
          ]
        }
      ],
      "source": [
        "def imshow(img):\n",
        "    img = img / 2 + 0.5     # unnormalize\n",
        "    npimg = img.numpy()\n",
        "    plt.imshow(np.transpose(npimg, (1, 2, 0)))\n",
        "    plt.show()\n",
        "\n",
        "# Iterate over the testloader using a for loop\n",
        "for images, labels in testloader:\n",
        "    # print images\n",
        "    imshow(torchvision.utils.make_grid(images))\n",
        "    print('GroundTruth: ', ' '.join('%5s' % classes[labels[j]] for j in range(4)))\n",
        "\n",
        "    outputs = net(images)\n",
        "\n",
        "    _, predicted = torch.max(outputs, 1)\n",
        "\n",
        "    print('Predicted: ', ' '.join('%5s' % classes[predicted[j]]\n",
        "                                  for j in range(4)))\n",
        "    break  # Break the loop after the first iteration if you only want to visualize one batch\n"
      ]
    },
    {
      "cell_type": "code",
      "execution_count": null,
      "metadata": {
        "colab": {
          "base_uri": "https://localhost:8080/",
          "height": 1000
        },
        "id": "_8xIdiURAWsQ",
        "outputId": "20c3f463-118b-432b-8d78-c25e34f36e5e"
      },
      "outputs": [
        {
          "output_type": "stream",
          "name": "stdout",
          "text": [
            "Original Image\n",
            "Predicted: plane  Probability: 0.7117944955825806\n"
          ]
        },
        {
          "output_type": "display_data",
          "data": {
            "text/plain": [
              "<Figure size 600x600 with 1 Axes>"
            ],
            "image/png": "[encoded data removed]"
          },
          "metadata": {}
        },
        {
          "output_type": "display_data",
          "data": {
            "text/plain": [
              "<Figure size 600x600 with 2 Axes>"
            ],
            "image/png": "[encoded data removed]"
          },
          "metadata": {}
        },
        {
          "output_type": "display_data",
          "data": {
            "text/plain": [
              "<Figure size 600x600 with 2 Axes>"
            ],
            "image/png": "[encoded data removed]"
          },
          "metadata": {}
        },
        {
          "output_type": "display_data",
          "data": {
            "text/plain": [
              "<Figure size 600x600 with 2 Axes>"
            ],
            "image/png": "[encoded data removed]"
          },
          "metadata": {}
        },
        {
          "output_type": "display_data",
          "data": {
            "text/plain": [
              "<Figure size 600x600 with 2 Axes>"
            ],
            "image/png": "[encoded data removed]"
          },
          "metadata": {}
        }
      ],
      "source": [
        "print('Original Image')\n",
        "print('Predicted:', classes[predicted[ind]],\n",
        "      ' Probability:', torch.max(F.softmax(outputs, 1)).item())\n",
        "\n",
        "original_image = np.transpose((images[ind].cpu().detach().numpy() / 2) + 0.5, (1, 2, 0))\n",
        "\n",
        "_ = viz.visualize_image_attr(None, original_image,\n",
        "                      method=\"original_image\", title=\"Original Image\")\n",
        "\n",
        "_ = viz.visualize_image_attr(grads, original_image, method=\"blended_heat_map\", sign=\"absolute_value\",\n",
        "                          show_colorbar=True, title=\"Overlayed Gradient Magnitudes\")\n",
        "\n",
        "_ = viz.visualize_image_attr(attr_ig, original_image, method=\"blended_heat_map\",sign=\"all\",\n",
        "                          show_colorbar=True, title=\"Overlayed Integrated Gradients\")\n",
        "\n",
        "_ = viz.visualize_image_attr(attr_ig_nt, original_image, method=\"blended_heat_map\", sign=\"absolute_value\",\n",
        "                             outlier_perc=10, show_colorbar=True,\n",
        "                             title=\"Overlayed Integrated Gradients \\n with SmoothGrad Squared\")\n",
        "\n",
        "_ = viz.visualize_image_attr(attr_dl, original_image, method=\"blended_heat_map\",sign=\"all\",show_colorbar=True,\n",
        "                          title=\"Overlayed DeepLift\")\n",
        "\n"
      ]
    },
    {
      "cell_type": "code",
      "execution_count": null,
      "metadata": {
        "id": "l_OZNyYYAcBU"
      },
      "outputs": [],
      "source": [
        "ind = 3\n",
        "\n",
        "input = images[ind].unsqueeze(0)\n",
        "input.requires_grad = True"
      ]
    },
    {
      "cell_type": "code",
      "execution_count": null,
      "metadata": {
        "id": "fttEVkwjBMxd"
      },
      "outputs": [],
      "source": [
        "def attribute_image_features(algorithm, input, **kwargs):\n",
        "    net.zero_grad()\n",
        "    tensor_attributions = algorithm.attribute(input,\n",
        "                                              target=labels[ind],\n",
        "                                              **kwargs\n",
        "                                             )\n",
        "\n",
        "    return tensor_attributions\n"
      ]
    },
    {
      "cell_type": "code",
      "execution_count": null,
      "metadata": {
        "colab": {
          "base_uri": "https://localhost:8080/"
        },
        "id": "BEkUh7qDBPQ_",
        "outputId": "20bbf161-37da-42ec-a8bc-334ace4ab4b1"
      },
      "outputs": [
        {
          "output_type": "stream",
          "name": "stdout",
          "text": [
            "<class 'captum.attr._core.saliency.Saliency'> <captum.attr._core.saliency.Saliency object at 0x7e90feacde70>\n"
          ]
        }
      ],
      "source": [
        "saliency = Saliency(net)\n",
        "print(type(saliency),saliency)\n",
        "grads = saliency.attribute(input, target=labels[ind].item())\n",
        "grads = np.transpose(grads.squeeze().cpu().detach().numpy(), (1, 2, 0))"
      ]
    },
    {
      "cell_type": "code",
      "execution_count": null,
      "metadata": {
        "colab": {
          "base_uri": "https://localhost:8080/"
        },
        "id": "V-qaKcRVBvWX",
        "outputId": "830cef11-fd4d-43c3-df29-6df6183ed2c5"
      },
      "outputs": [
        {
          "output_type": "stream",
          "name": "stdout",
          "text": [
            "ig <captum.attr._core.integrated_gradients.IntegratedGradients object at 0x7e90fe97a230>\n",
            "Attr_ig tensor([[[[ 0.0000e+00,  0.0000e+00,  0.0000e+00,  ..., -1.2463e-04,\n",
            "           -5.0792e-06,  0.0000e+00],\n",
            "          [-6.0150e-05, -2.6626e-04, -7.9194e-04,  ..., -1.9328e-04,\n",
            "           -3.2656e-04,  0.0000e+00],\n",
            "          [-9.3718e-05, -1.3491e-03, -1.7690e-03,  ..., -3.8180e-04,\n",
            "           -3.2593e-04,  0.0000e+00],\n",
            "          ...,\n",
            "          [ 8.3053e-03, -2.0702e-02, -2.1479e-02,  ...,  3.2874e-03,\n",
            "            1.5430e-03, -0.0000e+00],\n",
            "          [ 4.0129e-03, -1.1184e-02, -1.4200e-02,  ...,  1.5882e-03,\n",
            "           -1.3651e-04, -0.0000e+00],\n",
            "          [ 4.0953e-04, -2.2926e-03, -4.5350e-04,  ..., -1.3283e-04,\n",
            "            2.5981e-04, -0.0000e+00]],\n",
            "\n",
            "         [[ 0.0000e+00,  0.0000e+00,  0.0000e+00,  ..., -2.2082e-04,\n",
            "           -1.9917e-04,  0.0000e+00],\n",
            "          [-2.2571e-04, -1.8465e-03, -1.5562e-03,  ..., -2.1092e-05,\n",
            "            2.4025e-05,  0.0000e+00],\n",
            "          [-4.3259e-04, -2.0393e-03,  2.3311e-04,  ...,  1.2923e-04,\n",
            "           -1.2434e-04,  0.0000e+00],\n",
            "          ...,\n",
            "          [ 7.4683e-03, -1.7372e-02, -1.6388e-02,  ...,  6.7978e-04,\n",
            "            4.3016e-04, -0.0000e+00],\n",
            "          [ 4.9278e-03, -1.2399e-02, -1.4571e-02,  ..., -1.1269e-03,\n",
            "            4.1906e-04, -0.0000e+00],\n",
            "          [ 1.0709e-04, -6.9539e-03, -3.8958e-03,  ..., -6.7985e-04,\n",
            "            3.7598e-04, -0.0000e+00]],\n",
            "\n",
            "         [[ 0.0000e+00,  0.0000e+00,  0.0000e+00,  ...,  5.2981e-04,\n",
            "            3.3937e-04,  0.0000e+00],\n",
            "          [-1.1635e-04,  1.2027e-03,  1.3729e-03,  ...,  2.5927e-04,\n",
            "            5.0772e-04,  0.0000e+00],\n",
            "          [-1.7089e-04,  3.7572e-04,  8.2087e-03,  ...,  6.0488e-04,\n",
            "            4.2083e-04,  0.0000e+00],\n",
            "          ...,\n",
            "          [ 1.3335e-02, -1.1175e-02, -1.5371e-03,  ...,  8.8489e-04,\n",
            "           -5.6953e-05, -0.0000e+00],\n",
            "          [ 4.3166e-03, -1.1419e-02, -6.1957e-03,  ..., -1.3476e-03,\n",
            "           -1.1878e-03, -0.0000e+00],\n",
            "          [ 3.4634e-03,  5.4483e-04,  6.3459e-04,  ..., -2.9557e-04,\n",
            "           -6.8994e-05, -0.0000e+00]]]], dtype=torch.float64,\n",
            "       grad_fn=<MulBackward0>) **** tensor([-0.0767], dtype=torch.float64)\n",
            "Approximation delta:  tensor([0.0767], dtype=torch.float64)\n"
          ]
        }
      ],
      "source": [
        "ig = IntegratedGradients(net)\n",
        "print(\"ig\",ig)\n",
        "attr_ig, delta = attribute_image_features(ig, input, baselines=input * 0, return_convergence_delta=True)\n",
        "print(\"Attr_ig\",attr_ig,\"****\",delta)\n",
        "attr_ig = np.transpose(attr_ig.squeeze().cpu().detach().numpy(), (1, 2, 0))\n",
        "print('Approximation delta: ', abs(delta))\n"
      ]
    },
    {
      "cell_type": "code",
      "execution_count": null,
      "metadata": {
        "colab": {
          "base_uri": "https://localhost:8080/"
        },
        "id": "d_TbpV_DByhG",
        "outputId": "203926e9-1aea-4d98-d265-fec8e4dca097"
      },
      "outputs": [
        {
          "output_type": "stream",
          "name": "stdout",
          "text": [
            "<captum.attr._core.deep_lift.DeepLift object at 0x7e90feacf5e0>\n",
            "tensor([[[[ 0.0000e+00,  0.0000e+00,  0.0000e+00,  ...,  0.0000e+00,\n",
            "            0.0000e+00,  0.0000e+00],\n",
            "          [-6.4560e-06, -5.9156e-05, -3.2780e-04,  ...,  1.0169e-05,\n",
            "            0.0000e+00,  0.0000e+00],\n",
            "          [-1.5255e-05, -5.0439e-04, -7.6653e-04,  ...,  2.4485e-04,\n",
            "            0.0000e+00,  0.0000e+00],\n",
            "          ...,\n",
            "          [ 6.0335e-03, -5.8554e-03, -6.3186e-03,  ...,  3.3035e-03,\n",
            "            1.4356e-03, -0.0000e+00],\n",
            "          [ 2.6164e-03, -2.8895e-03, -3.3976e-03,  ...,  2.5473e-03,\n",
            "            2.6593e-04, -0.0000e+00],\n",
            "          [ 3.5881e-05, -9.3574e-04, -1.2574e-03,  ...,  4.1961e-04,\n",
            "            3.8112e-04, -0.0000e+00]],\n",
            "\n",
            "         [[ 0.0000e+00,  0.0000e+00,  0.0000e+00,  ...,  0.0000e+00,\n",
            "            0.0000e+00,  0.0000e+00],\n",
            "          [-2.4226e-05, -6.7281e-04, -5.7735e-04,  ..., -1.3775e-05,\n",
            "            0.0000e+00,  0.0000e+00],\n",
            "          [-6.3852e-05, -7.1415e-04,  1.9634e-05,  ..., -2.9896e-04,\n",
            "            0.0000e+00,  0.0000e+00],\n",
            "          ...,\n",
            "          [ 4.5279e-03, -1.0682e-02, -1.3733e-02,  ...,  3.9175e-04,\n",
            "            9.5769e-05, -0.0000e+00],\n",
            "          [ 2.8360e-03, -4.3733e-03, -6.5929e-03,  ..., -1.6289e-03,\n",
            "            4.5947e-04, -0.0000e+00],\n",
            "          [-3.7405e-04, -4.3829e-03, -2.7764e-03,  ..., -2.1791e-05,\n",
            "            5.5152e-04, -0.0000e+00]],\n",
            "\n",
            "         [[ 0.0000e+00,  0.0000e+00,  0.0000e+00,  ...,  0.0000e+00,\n",
            "            0.0000e+00,  0.0000e+00],\n",
            "          [-1.2488e-05,  4.7495e-04,  3.2763e-04,  ...,  2.8866e-05,\n",
            "            0.0000e+00,  0.0000e+00],\n",
            "          [-2.6397e-05,  2.1973e-04,  2.9744e-03,  ...,  5.6424e-04,\n",
            "            0.0000e+00,  0.0000e+00],\n",
            "          ...,\n",
            "          [ 8.1081e-03, -7.8571e-03, -9.1676e-03,  ...,  1.6716e-04,\n",
            "           -4.6519e-04, -0.0000e+00],\n",
            "          [ 2.5407e-03, -2.2197e-03, -2.2352e-03,  ..., -2.3787e-03,\n",
            "           -9.1078e-04, -0.0000e+00],\n",
            "          [ 2.6261e-03,  1.1688e-03,  1.6701e-03,  ..., -4.2226e-04,\n",
            "           -1.0121e-04, -0.0000e+00]]]], grad_fn=<MulBackward0>)\n"
          ]
        }
      ],
      "source": [
        "dl = DeepLift(net)\n",
        "print(dl)\n",
        "attr_dl = attribute_image_features(dl, input, baselines=input * 0)\n",
        "print(attr_dl)\n",
        "attr_dl = np.transpose(attr_dl.squeeze(0).cpu().detach().numpy(), (1, 2, 0))"
      ]
    },
    {
      "cell_type": "code",
      "execution_count": null,
      "metadata": {
        "colab": {
          "base_uri": "https://localhost:8080/"
        },
        "id": "W8U_pKQUB7Iu",
        "outputId": "b8306167-4f53-412c-e6a0-3caeedd0c935"
      },
      "outputs": [
        {
          "output_type": "stream",
          "name": "stdout",
          "text": [
            "num_samples 1\n",
            "num_samples 2\n",
            "num_samples 3\n",
            "num_samples 4\n",
            "num_samples 5\n",
            "num_samples 6\n",
            "num_samples 7\n",
            "num_samples 8\n",
            "num_samples 9\n",
            "num_samples 10\n",
            "num_samples 11\n",
            "num_samples 12\n",
            "num_samples 13\n",
            "num_samples 14\n",
            "num_samples 15\n",
            "num_samples 16\n",
            "num_samples 17\n",
            "num_samples 18\n",
            "num_samples 19\n",
            "num_samples 20\n",
            "num_samples 21\n",
            "num_samples 22\n",
            "num_samples 23\n",
            "num_samples 24\n",
            "num_samples 25\n",
            "num_samples 26\n",
            "num_samples 27\n",
            "num_samples 28\n",
            "num_samples 29\n",
            "num_samples 30\n",
            "num_samples 31\n",
            "num_samples 32\n",
            "num_samples 33\n",
            "num_samples 34\n",
            "num_samples 35\n",
            "num_samples 36\n",
            "num_samples 37\n",
            "num_samples 38\n",
            "num_samples 39\n",
            "num_samples 40\n",
            "num_samples 41\n",
            "num_samples 42\n",
            "num_samples 43\n",
            "num_samples 44\n",
            "num_samples 45\n",
            "num_samples 46\n",
            "num_samples 47\n",
            "num_samples 48\n",
            "num_samples 49\n",
            "num_samples 50\n",
            "num_samples 51\n",
            "num_samples 52\n",
            "num_samples 53\n",
            "num_samples 54\n",
            "num_samples 55\n",
            "num_samples 56\n",
            "num_samples 57\n",
            "num_samples 58\n",
            "num_samples 59\n",
            "num_samples 60\n",
            "num_samples 61\n",
            "num_samples 62\n",
            "num_samples 63\n",
            "num_samples 64\n",
            "num_samples 65\n",
            "num_samples 66\n",
            "num_samples 67\n",
            "num_samples 68\n",
            "num_samples 69\n",
            "num_samples 70\n",
            "num_samples 71\n",
            "num_samples 72\n",
            "num_samples 73\n",
            "num_samples 74\n",
            "num_samples 75\n",
            "num_samples 76\n",
            "num_samples 77\n",
            "num_samples 78\n",
            "num_samples 79\n",
            "num_samples 80\n",
            "num_samples 81\n",
            "num_samples 82\n",
            "num_samples 83\n",
            "num_samples 84\n",
            "num_samples 85\n",
            "num_samples 86\n",
            "num_samples 87\n",
            "num_samples 88\n",
            "num_samples 89\n",
            "num_samples 90\n",
            "num_samples 91\n",
            "num_samples 92\n",
            "num_samples 93\n",
            "num_samples 94\n",
            "num_samples 95\n",
            "num_samples 96\n",
            "num_samples 97\n",
            "num_samples 98\n",
            "num_samples 99\n",
            "num_samples 100\n",
            "num_samples 101\n",
            "num_samples 102\n",
            "num_samples 103\n",
            "num_samples 104\n",
            "num_samples 105\n",
            "num_samples 106\n",
            "num_samples 107\n",
            "num_samples 108\n",
            "num_samples 109\n",
            "num_samples 110\n",
            "num_samples 111\n",
            "num_samples 112\n",
            "num_samples 113\n",
            "num_samples 114\n"
          ]
        }
      ],
      "source": [
        "import numpy as np\n",
        "import torch\n",
        "import torchvision\n",
        "import torchvision.transforms as transforms\n",
        "from captum.attr import IntegratedGradients, NoiseTunnel, DeepLift, Saliency\n",
        "\n",
        "# Assuming net is defined somewhere in your code\n",
        "\n",
        "# Load CIFAR10 dataset and create data loaders\n",
        "transform = transforms.Compose([\n",
        "    transforms.ToTensor(),\n",
        "    transforms.Normalize((0.5, 0.5, 0.5), (0.5, 0.5, 0.5))\n",
        "])\n",
        "\n",
        "trainset = torchvision.datasets.CIFAR10(root='./data', train=True, download=False, transform=transform)\n",
        "trainloader = torch.utils.data.DataLoader(trainset, batch_size=4, shuffle=True, num_workers=2)\n",
        "\n",
        "# Initialize attribution methods\n",
        "saliency = Saliency(net)\n",
        "ig = IntegratedGradients(net)\n",
        "nt = NoiseTunnel(ig)\n",
        "dl = DeepLift(net)\n",
        "\n",
        "# Initialize accumulators for each attribution method\n",
        "total_saliency = 0\n",
        "total_ig = 0\n",
        "total_nt = 0\n",
        "total_dl = 0\n",
        "num_samples = 0\n",
        "\n",
        "# Loop through the training set\n",
        "for images, labels in trainloader:\n",
        "    # Iterate over each image in the batch\n",
        "    for ind in range(len(images)):\n",
        "        # if num_samples >= 500:\n",
        "            # break  # Break out of the loop once 100 images are processed\n",
        "        num_samples += 1\n",
        "        print(\"num_samples\",num_samples)\n",
        "\n",
        "        input = images[ind].unsqueeze(0)\n",
        "        input.requires_grad = True\n",
        "\n",
        "        # Compute attributions for each method\n",
        "        target_label = labels[ind].item()  # Get target label for the current image\n",
        "        grads = saliency.attribute(input, target=target_label)\n",
        "        attr_ig, delta = ig.attribute(input, target=target_label, baselines=input * 0, return_convergence_delta=True)\n",
        "        # print(\"attr_ig\",attr_ig)\n",
        "        attr_nt = nt.attribute(input, target=target_label, baselines=input * 0, nt_type='smoothgrad_sq', nt_samples=100, stdevs=0.2)\n",
        "        # print(\"attr_nt\",attr_nt)\n",
        "        attr_dl = dl.attribute(input, target=target_label, baselines=input * 0)\n",
        "        # print(\"attr_dl\",attr_dl)\n",
        "\n",
        "        # Accumulate attributions\n",
        "        total_saliency += grads.squeeze().cpu().detach().numpy()\n",
        "        total_ig += attr_ig.squeeze().cpu().detach().numpy()\n",
        "        total_nt += attr_nt.squeeze().cpu().detach().numpy()\n",
        "        total_dl += attr_dl.squeeze().cpu().detach().numpy()\n",
        "\n",
        "    # if num_samples >= 500:\n",
        "    #     break  # Break out of the outer loop once 100 images are processed\n",
        "\n",
        "# Compute mean attributions\n",
        "mean_saliency = total_saliency / num_samples\n",
        "mean_ig = total_ig / num_samples\n",
        "mean_nt = total_nt / num_samples\n",
        "mean_dl = total_dl / num_samples\n",
        "\n",
        "# Print or use mean attributions as needed\n",
        "print(\"Mean Saliency:\", mean_saliency)\n",
        "print(\"Mean Integrated Gradients:\", mean_ig)\n",
        "print(\"Mean Noise Tunnel:\", mean_nt)\n",
        "print(\"Mean Deep Lift:\", mean_dl)\n"
      ]
    },
    {
      "cell_type": "code",
      "execution_count": null,
      "metadata": {
        "id": "Mmg01cmyCG1S"
      },
      "outputs": [],
      "source": [
        "# Compute the overall mean saliency across all pixels and channels\n",
        "overall_mean_saliency = np.mean(mean_saliency)\n",
        "print(\"Overall Mean Saliency:\", overall_mean_saliency)\n",
        "print(\"Overall Mean Ig:\",np.mean(mean_ig))\n",
        "print(\"Overall Mean nt:\",np.mean(mean_nt))\n",
        "print(\"Overall Mean dl:\",np.mean(mean_dl))"
      ]
    },
    {
      "cell_type": "code",
      "source": [
        "import numpy as np\n",
        "\n",
        "# Calculate the square of the difference for each attribution method\n",
        "saliency_diff = np.square(np.max(mean_saliency) - np.min(mean_saliency))\n",
        "nt_diff = np.square(np.max(mean_nt) - np.min(mean_nt))\n",
        "ig_diff = np.square(np.max(mean_ig) - np.min(mean_ig))\n",
        "dl_diff = np.square(np.max(mean_dl) - np.min(mean_dl))\n",
        "\n",
        "# Print or use the differences as needed\n",
        "print(\"Square of the difference in Saliency:\", saliency_diff)\n",
        "print(\"Square of the difference in Integrated Gradients:\", ig_diff)\n",
        "print(\"Square of the difference in Noise Tunnel:\", nt_diff)\n",
        "print(\"Square of the difference in Deep Lift:\", dl_diff)\n"
      ],
      "metadata": {
        "id": "hqmkyBinlMQ5"
      },
      "execution_count": null,
      "outputs": []
    },
    {
      "cell_type": "code",
      "source": [],
      "metadata": {
        "id": "_U0ra04IPm58"
      },
      "execution_count": null,
      "outputs": []
    }
  ],
  "metadata": {
    "colab": {
      "provenance": [],
      "gpuType": "T4"
    },
    "kernelspec": {
      "display_name": "Python 3",
      "name": "python3"
    },
    "language_info": {
      "name": "python"
    },
    "accelerator": "GPU"
  },
  "nbformat": 4,
  "nbformat_minor": 0
}